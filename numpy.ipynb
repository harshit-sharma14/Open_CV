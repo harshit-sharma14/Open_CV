{
 "cells": [
  {
   "cell_type": "code",
   "execution_count": 15,
   "id": "1cbb73d8",
   "metadata": {},
   "outputs": [
    {
     "name": "stdout",
     "output_type": "stream",
     "text": [
      "2.2.6\n"
     ]
    }
   ],
   "source": [
    "import numpy as np\n",
    "print(np.__version__)"
   ]
  },
  {
   "cell_type": "code",
   "execution_count": 16,
   "id": "accd6671",
   "metadata": {},
   "outputs": [
    {
     "name": "stdout",
     "output_type": "stream",
     "text": [
      "[1, 2, 3, 4]\n",
      "[1, 2, 3, 4, 1, 2, 3, 4]\n"
     ]
    }
   ],
   "source": [
    "list_1=[1,2,3,4]\n",
    "print(list_1)\n",
    "#we want vectorized computation means double each element shoudl double \n",
    "print(list_1*2)"
   ]
  },
  {
   "cell_type": "code",
   "execution_count": 17,
   "id": "135d27ed",
   "metadata": {},
   "outputs": [
    {
     "name": "stdout",
     "output_type": "stream",
     "text": [
      "[2 4 6 8]\n",
      "<class 'numpy.ndarray'>\n"
     ]
    }
   ],
   "source": [
    "arr=np.array([1,2,3,4])\n",
    "print(arr*2)\n",
    "print(type(arr))"
   ]
  },
  {
   "cell_type": "code",
   "execution_count": 18,
   "id": "ee524cbc",
   "metadata": {},
   "outputs": [
    {
     "name": "stdout",
     "output_type": "stream",
     "text": [
      "0\n",
      "1\n",
      "2\n",
      "3\n",
      "(2, 2, 3)\n",
      "D\n",
      "D\n"
     ]
    }
   ],
   "source": [
    "# multidimentional array\n",
    "#0 dimension\n",
    "arr=np.array('A')\n",
    "print(arr.ndim)\n",
    "arr1=np.array(['A','B','C'])\n",
    "print(arr1.ndim)\n",
    "arr2=np.array([['A','B','C'],['C','D','E']])\n",
    "print(arr2.ndim)\n",
    "arr3=np.array([[['A','B','C'],['C','D','E']],\n",
    "               [['A','B','C'],['C','D','E']]])\n",
    "print(arr3.ndim)\n",
    "\n",
    "print(arr3.shape) #gives depth, rows and cols\n",
    "print(arr3[0][1][1])\n",
    "#or\n",
    "print(arr3[0,1,1])"
   ]
  },
  {
   "cell_type": "code",
   "execution_count": null,
   "id": "8be3322d",
   "metadata": {},
   "outputs": [
    {
     "name": "stdout",
     "output_type": "stream",
     "text": [
      "[1 2 3 4]\n",
      "[[ 1  2  3  4]\n",
      " [ 5  6  7  8]\n",
      " [ 9 10 11 12]]\n",
      "New\n",
      "[[ 1  2  3  4]\n",
      " [ 9 10 11 12]]\n",
      "New\n",
      "[[ 1  2  3  4]\n",
      " [ 9 10 11 12]]\n",
      "New\n",
      "[[13 14 15 16]\n",
      " [ 9 10 11 12]\n",
      " [ 5  6  7  8]\n",
      " [ 1  2  3  4]]\n"
     ]
    }
   ],
   "source": [
    "#slicing\n",
    "arr=np.array([[1,2,3,4],\n",
    "             [5,6,7,8],\n",
    "             [9,10,11,12],\n",
    "             [13,14,15,16]])\n",
    "#print 1st row\n",
    "print(arr[0])\n",
    "print(arr[0:3])\n",
    "print('New')\n",
    "print(arr[0:4:2])\n",
    "print('New')\n",
    "print(arr[::2])\n",
    "print('New')\n",
    "print(arr[::-1]) #prints all rows reversed if -2 is used every second row prints in reverse"
   ]
  },
  {
   "cell_type": "code",
   "execution_count": 29,
   "id": "3ee8d1c9",
   "metadata": {},
   "outputs": [
    {
     "name": "stdout",
     "output_type": "stream",
     "text": [
      "[ 1  5  9 13]\n",
      "New\n",
      "[[ 2  3]\n",
      " [ 6  7]\n",
      " [10 11]\n",
      " [14 15]]\n",
      "new\n",
      "[[ 1  3]\n",
      " [ 5  7]\n",
      " [ 9 11]\n",
      " [13 15]]\n",
      "new\n",
      "[[ 4  3  2  1]\n",
      " [ 8  7  6  5]\n",
      " [12 11 10  9]\n",
      " [16 15 14 13]]\n"
     ]
    }
   ],
   "source": [
    "arr=np.array([[1,2,3,4],\n",
    "             [5,6,7,8],\n",
    "             [9,10,11,12],\n",
    "             [13,14,15,16]])\n",
    "#select all columsn with index 0\n",
    "print(arr[:,0])\n",
    "#first three columns\n",
    "print('New')\n",
    "print(arr[:,1:3])\n",
    "print('new')\n",
    "print(arr[:,::2])\n",
    "print('new')\n",
    "#cols in reverse\n",
    "print(arr[:,::-1])"
   ]
  },
  {
   "cell_type": "code",
   "execution_count": 34,
   "id": "f0c47335",
   "metadata": {},
   "outputs": [
    {
     "name": "stdout",
     "output_type": "stream",
     "text": [
      "[[1 2]\n",
      " [5 6]]\n",
      "[[3 4]\n",
      " [7 8]]\n",
      "[[ 9 10]\n",
      " [13 14]]\n"
     ]
    }
   ],
   "source": [
    "arr=np.array([[1,2,3,4],\n",
    "             [5,6,7,8],\n",
    "             [9,10,11,12],\n",
    "             [13,14,15,16]])\n",
    "#first 2 rows with 2 cols\n",
    "print(arr[0:2,0:2])\n",
    "#selecting 3 4 7 8\n",
    "print(arr[:2,2:])\n",
    "print(arr[2:,:2])"
   ]
  },
  {
   "cell_type": "code",
   "execution_count": 35,
   "id": "94956a01",
   "metadata": {},
   "outputs": [
    {
     "name": "stdout",
     "output_type": "stream",
     "text": [
      "[2 3 4]\n",
      "[-1  0  1]\n",
      "[3 6 9]\n",
      "[  1  32 243]\n"
     ]
    }
   ],
   "source": [
    "#arithmetic\n",
    "#Scalar arithemtic\n",
    "arr=np.array([1,2,3])\n",
    "print(arr+1)\n",
    "print(arr-2)\n",
    "print(arr*3)\n",
    "print(arr**5)"
   ]
  },
  {
   "cell_type": "code",
   "execution_count": 38,
   "id": "1d397698",
   "metadata": {},
   "outputs": [
    {
     "name": "stdout",
     "output_type": "stream",
     "text": [
      "[1.         1.41421356 1.73205081]\n",
      "[1 2 3]\n",
      "[1 2 3]\n"
     ]
    }
   ],
   "source": [
    "#vecotrized compuataion \n",
    "arr=np.array([1,2,3])\n",
    "print(np.sqrt(arr))\n",
    "arr1=np.array([1.01,2.6,34.3])\n",
    "print(np.floor(arr))\n",
    "print(np.round(arr))\n"
   ]
  },
  {
   "cell_type": "code",
   "execution_count": 40,
   "id": "c76307fb",
   "metadata": {},
   "outputs": [
    {
     "name": "stdout",
     "output_type": "stream",
     "text": [
      "[28.27433388 12.56637061 50.26548246]\n"
     ]
    }
   ],
   "source": [
    "#given radii calculate the corresponding area\n",
    "radii=np.array([3,2,4])\n",
    "print(np.pi*np.square(radii))"
   ]
  },
  {
   "cell_type": "code",
   "execution_count": 42,
   "id": "269fb0d1",
   "metadata": {},
   "outputs": [
    {
     "name": "stdout",
     "output_type": "stream",
     "text": [
      "[5 7 9]\n",
      "[-3 -3 -3]\n",
      "[ 4 10 18]\n",
      "[  1  32 729]\n",
      "[0.25 0.4  0.5 ]\n"
     ]
    }
   ],
   "source": [
    "#Element wise\n",
    "n1=np.array([1,2,3])\n",
    "n2=np.array([4,5,6])\n",
    "print(n1+n2)\n",
    "print(n1-n2)\n",
    "print(n1*n2)\n",
    "print(n1**n2)\n",
    "print(n1/n2)"
   ]
  },
  {
   "cell_type": "code",
   "execution_count": 44,
   "id": "994eb706",
   "metadata": {},
   "outputs": [
    {
     "name": "stdout",
     "output_type": "stream",
     "text": [
      "[False  True False False]\n",
      "[False False  True  True]\n"
     ]
    }
   ],
   "source": [
    "#Comparasion\n",
    "score=np.array([1,2,3,4])\n",
    "print(score==2)\n",
    "print(score>2)"
   ]
  },
  {
   "cell_type": "code",
   "execution_count": 46,
   "id": "67659476",
   "metadata": {},
   "outputs": [
    {
     "name": "stdout",
     "output_type": "stream",
     "text": [
      "(1, 4)\n",
      "(4, 1)\n"
     ]
    }
   ],
   "source": [
    "#Broadcasting allows numpy to perform operations on array\n",
    "#with diff shape allowing arrays to expand dimension virtually\n",
    "#so they match the larger's array shape\n",
    "a1=np.array([[1,2,3,4]])\n",
    "a2=np.array([[1],[2],[3],[4]])\n",
    "print(a1.shape)\n",
    "print(a2.shape)"
   ]
  }
 ],
 "metadata": {
  "kernelspec": {
   "display_name": "Python 3",
   "language": "python",
   "name": "python3"
  },
  "language_info": {
   "codemirror_mode": {
    "name": "ipython",
    "version": 3
   },
   "file_extension": ".py",
   "mimetype": "text/x-python",
   "name": "python",
   "nbconvert_exporter": "python",
   "pygments_lexer": "ipython3",
   "version": "3.13.3"
  }
 },
 "nbformat": 4,
 "nbformat_minor": 5
}
